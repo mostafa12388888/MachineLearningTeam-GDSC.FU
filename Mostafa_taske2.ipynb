{
 "cells": [
  {
   "cell_type": "markdown",
   "id": "2dfd5fa4",
   "metadata": {},
   "source": [
    "# section one"
   ]
  },
  {
   "cell_type": "code",
   "execution_count": null,
   "id": "46463d2d",
   "metadata": {},
   "outputs": [],
   "source": [
    "age=int(input('ht is the  age'))\n",
    "gender=input('what is the genter if gender mail enter M anther enter F:')\n",
    "status=input('whate is the matial status:')\n",
    "if gender[0]=='f' or gender[0]=='F':\n",
    "   print ('you are worck in urban areas only.')\n",
    "elif gender[0]=='M' or gender[0]=='m' :\n",
    "   if age>=20 and age < 40:\n",
    "      print ('you are work anywhere')\n",
    "   elif  age>=40 and age<60:\n",
    "       print ('you are worck in urban areas only.')\n",
    "   else :\n",
    "      print('ERROR')\n",
    "else:\n",
    "   print (\"ERROR\")\n",
    "    "
   ]
  },
  {
   "cell_type": "markdown",
   "id": "ee1fd4e4",
   "metadata": {},
   "source": [
    "#section 2"
   ]
  },
  {
   "cell_type": "code",
   "execution_count": null,
   "id": "b0abec49",
   "metadata": {},
   "outputs": [],
   "source": [
    "import math\n",
    "\n",
    "numper=int(input(\"what is the range Number : \"))\n",
    "for i in range(numper):\n",
    "    count=True\n",
    "    for  l in range(2,i):\n",
    "       if (i % l)==0:\n",
    "         count=False\n",
    "         break\n",
    "    if count:\n",
    "        print(i)"
   ]
  },
  {
   "cell_type": "code",
   "execution_count": null,
   "id": "88898616",
   "metadata": {},
   "outputs": [],
   "source": [
    "def schoolgrate(grate):\n",
    "    if grate < 25:\n",
    "       print('f')\n",
    "    elif grate >= 25 and grate < 45:\n",
    "       print('E')\n",
    "    elif grate >= 45 and grate < 50:\n",
    "       print('D')\n",
    "    elif grate >= 50 and grate < 60:\n",
    "       print ('C')\n",
    "    elif grate >= 60 and grate < 80:\n",
    "       print('B')\n",
    "    elif grate >= 80 :\n",
    "       print ('A')\n",
    "\n",
    "grate=int(input('enter the grading that you went the corresponding the grate : '))\n",
    "schoolgrate (grate)"
   ]
  },
  {
   "cell_type": "code",
   "execution_count": null,
   "id": "e3f3ab29",
   "metadata": {},
   "outputs": [],
   "source": [
    "a,b,c=0,0,0\n",
    "while a<= 9:\n",
    "    b=0\n",
    "    while b<= 9:\n",
    "        c=0\n",
    "        while c<= 9:\n",
    "            print (a,b,c)\n",
    "            c+=1\n",
    "        b+=1\n",
    "    a+=1   "
   ]
  },
  {
   "cell_type": "code",
   "execution_count": 15,
   "id": "4ea0aed5",
   "metadata": {},
   "outputs": [
    {
     "name": "stdout",
     "output_type": "stream",
     "text": [
      "what is the ip : 454 4545 66 77 88\n"
     ]
    },
    {
     "ename": "AttributeError",
     "evalue": "'str' object has no attribute 'lenth'",
     "output_type": "error",
     "traceback": [
      "\u001b[1;31m---------------------------------------------------------------------------\u001b[0m",
      "\u001b[1;31mAttributeError\u001b[0m                            Traceback (most recent call last)",
      "\u001b[1;32m~\\AppData\\Local\\Temp\\ipykernel_9136\\2727394804.py\u001b[0m in \u001b[0;36m<module>\u001b[1;34m\u001b[0m\n\u001b[0;32m      2\u001b[0m \u001b[1;31m# l1=int(ip[-4:])\u001b[0m\u001b[1;33m\u001b[0m\u001b[1;33m\u001b[0m\u001b[0m\n\u001b[0;32m      3\u001b[0m \u001b[0ml1\u001b[0m\u001b[1;33m=\u001b[0m\u001b[1;33m-\u001b[0m\u001b[1;36m3\u001b[0m\u001b[1;33m;\u001b[0m\u001b[1;33m\u001b[0m\u001b[1;33m\u001b[0m\u001b[0m\n\u001b[1;32m----> 4\u001b[1;33m \u001b[0ml2\u001b[0m\u001b[1;33m=\u001b[0m\u001b[0mip\u001b[0m\u001b[1;33m.\u001b[0m\u001b[0mlenth\u001b[0m\u001b[1;33m\u001b[0m\u001b[1;33m\u001b[0m\u001b[0m\n\u001b[0m\u001b[0;32m      5\u001b[0m \u001b[0mip\u001b[0m\u001b[1;33m=\u001b[0m\u001b[0mip\u001b[0m\u001b[1;33m[\u001b[0m\u001b[1;36m0\u001b[0m\u001b[1;33m:\u001b[0m\u001b[1;33m-\u001b[0m\u001b[1;36m4\u001b[0m\u001b[1;33m]\u001b[0m\u001b[1;33m\u001b[0m\u001b[1;33m\u001b[0m\u001b[0m\n\u001b[0;32m      6\u001b[0m \u001b[0mcount\u001b[0m\u001b[1;33m=\u001b[0m\u001b[1;36m1\u001b[0m\u001b[1;33m\u001b[0m\u001b[1;33m\u001b[0m\u001b[0m\n",
      "\u001b[1;31mAttributeError\u001b[0m: 'str' object has no attribute 'lenth'"
     ]
    }
   ],
   "source": [
    "ip=input('what is the ip : ')\n",
    "# l1=int(ip[-4:])\n",
    "l1=-3;\n",
    "l2=len(ip)\n",
    "\n",
    "count=1\n",
    "for i in range(5):\n",
    "    x=int(ip[-3:])\n",
    "    x+=1\n",
    "    ip[-3:]=x\n",
    "    print (ip)\n",
    "    for l in range(4):\n",
    "        if ip[l1:l2] >='255':\n",
    "           ip[l1:l2]=0\n",
    "           l2=l1\n",
    "           l1=l1*2-1\n",
    "        else:\n",
    "         break\n",
    "    \n",
    "    if l1>=255:\n",
    "       l1=int(ip[-4:])\n",
    "       ip=ip[0:-4]\n",
    "    \n",
    "      \n",
    "   "
   ]
  },
  {
   "cell_type": "markdown",
   "id": "fb7d486f",
   "metadata": {},
   "source": [
    "#section 3:"
   ]
  },
  {
   "cell_type": "code",
   "execution_count": null,
   "id": "ac2d6ea0",
   "metadata": {},
   "outputs": [],
   "source": [
    "\n",
    "def numbers(num):\n",
    "  sum=num\n",
    "  while True:\n",
    "       sum+=num\n",
    "       num=int(input('what is the number pleas :'))\n",
    "       tr=input('if you went Exite programe enter true')\n",
    "       if tr[0]=='t' or tr[0]=='T':\n",
    "            print(sum )\n",
    "            break\n",
    "    \n",
    "    \n",
    "num=int(input('what is the number pleas :'))\n",
    "numbers(num)\n",
    "\n",
    "    "
   ]
  },
  {
   "cell_type": "code",
   "execution_count": null,
   "id": "978f606c",
   "metadata": {},
   "outputs": [],
   "source": [
    "def ShowEmployee(name,salary=9000):\n",
    "    print(f'the employee name is : {name} ,and, the salary is : {salary}')\n",
    "name=input('what is the name of Employee : ')\n",
    "salary=int(input(f'what is the Salary of {name} : '))\n",
    "ShowEmployee(name,salary)"
   ]
  },
  {
   "cell_type": "code",
   "execution_count": null,
   "id": "b3a24f05",
   "metadata": {},
   "outputs": [],
   "source": [
    "def ff(name ,age:int):\n",
    "    print (f'name is : {name}, and the age is : {age}')\n",
    "name=input('what is your name : ')\n",
    "age=int(input(\"what is the age : \"))\n",
    "ff(name , age)"
   ]
  }
 ],
 "metadata": {
  "kernelspec": {
   "display_name": "Python 3 (ipykernel)",
   "language": "python",
   "name": "python3"
  },
  "language_info": {
   "codemirror_mode": {
    "name": "ipython",
    "version": 3
   },
   "file_extension": ".py",
   "mimetype": "text/x-python",
   "name": "python",
   "nbconvert_exporter": "python",
   "pygments_lexer": "ipython3",
   "version": "3.9.13"
  }
 },
 "nbformat": 4,
 "nbformat_minor": 5
}
